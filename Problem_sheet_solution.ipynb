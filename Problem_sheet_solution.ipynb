{
  "nbformat": 4,
  "nbformat_minor": 0,
  "metadata": {
    "colab": {
      "name": "Problem sheet solution",
      "provenance": [],
      "collapsed_sections": [],
      "authorship_tag": "ABX9TyNZn1m1dwt9VbCpBQkKuoLu",
      "include_colab_link": true
    },
    "kernelspec": {
      "name": "python3",
      "display_name": "Python 3"
    }
  },
  "cells": [
    {
      "cell_type": "markdown",
      "metadata": {
        "id": "view-in-github",
        "colab_type": "text"
      },
      "source": [
        "<a href=\"https://colab.research.google.com/github/Srushti-01/Collaboratories/blob/main/Problem_sheet_solution.ipynb\" target=\"_parent\"><img src=\"https://colab.research.google.com/assets/colab-badge.svg\" alt=\"Open In Colab\"/></a>"
      ]
    },
    {
      "cell_type": "markdown",
      "metadata": {
        "id": "phgnQ4AqZBz_"
      },
      "source": [
        "**Question 1:A survey found that 65% of all financial customers were very satisfied with their primary\n",
        "financial institution. Suppose that 25 financial customers are sampled and if the survey result still holds true\n",
        "what is the probability that exactly 19 are very satisfied with their primary financial institution? What\n",
        "distribution would you use for analysis & why?**"
      ]
    },
    {
      "cell_type": "code",
      "metadata": {
        "id": "k_0oDj7tY3Ib"
      },
      "source": [
        "#We use binomial and pmf here to get values for a discrete point\n",
        "import scipy\n",
        "import numpy as np\n",
        "from scipy.stats import binom"
      ],
      "execution_count": 5,
      "outputs": []
    },
    {
      "cell_type": "code",
      "metadata": {
        "id": "zTUBAcVgoCfT",
        "outputId": "8f8bcce3-91cd-4d8b-8fb4-6c201c18fa51",
        "colab": {
          "base_uri": "https://localhost:8080/"
        }
      },
      "source": [
        "print(binom.pmf(k=19, n=25, p=0.65))"
      ],
      "execution_count": 6,
      "outputs": [
        {
          "output_type": "stream",
          "text": [
            "0.09077799859322791\n"
          ],
          "name": "stdout"
        }
      ]
    },
    {
      "cell_type": "markdown",
      "metadata": {
        "id": "YHg47MYJY-Te"
      },
      "source": [
        "**Question 2:According to Indian Census Bureau, approximately 6% of all workers in Ludhiana Punjab are\n",
        "unemployed. In conducting a random telephone survey in Ludhiana, what is the probabilty of getting two or\n",
        "fewer unemployed workers in a sample of 20. Comment (PMF or PDF or CDF)**"
      ]
    },
    {
      "cell_type": "code",
      "metadata": {
        "id": "FfREM26qZcOH",
        "outputId": "bca66e2e-a181-4078-d3fd-3c70487fff6e",
        "colab": {
          "base_uri": "https://localhost:8080/"
        }
      },
      "source": [
        "#Here cdf with binomial will be required for continuous graph\n",
        "binom.cdf(2,20,0.06)"
      ],
      "execution_count": 7,
      "outputs": [
        {
          "output_type": "execute_result",
          "data": {
            "text/plain": [
              "0.8850275957378545"
            ]
          },
          "metadata": {
            "tags": []
          },
          "execution_count": 7
        }
      ]
    },
    {
      "cell_type": "markdown",
      "metadata": {
        "id": "8DlGmE2qZcaI"
      },
      "source": [
        "**Question 3 : Suppose bank customers arrive randomly on a weekday afternoon at an average of 3.2 customers\n",
        "every 4 mins. What is the probability of exactly 5 customers arriving in a 4 minute interval on a weekday\n",
        "afternoon**\n"
      ]
    },
    {
      "cell_type": "code",
      "metadata": {
        "id": "RgBpoeCiZdF3",
        "outputId": "3f1da1a0-4a6b-4fd5-ccdf-1799e19edfe1",
        "colab": {
          "base_uri": "https://localhost:8080/"
        }
      },
      "source": [
        "#If emphasis on number of events with fixed time then its poisson distribution\n",
        "#GO TO LAST QUESTION\n",
        "#pmf\n",
        "from scipy.stats import poisson\n",
        "poisson.pmf(5,3.2) #x,mean"
      ],
      "execution_count": 8,
      "outputs": [
        {
          "output_type": "execute_result",
          "data": {
            "text/plain": [
              "0.11397938346351824"
            ]
          },
          "metadata": {
            "tags": []
          },
          "execution_count": 8
        }
      ]
    },
    {
      "cell_type": "markdown",
      "metadata": {
        "id": "PFwo9hJCZdQg"
      },
      "source": [
        "**Question 4 : Bank customers arrive randomly on weekday afternoons at an average of 3.2 customers every 4 mins. What is the probability of having more than 7 customers in a 4 minute interval on a weekday afternoon?**"
      ]
    },
    {
      "cell_type": "code",
      "metadata": {
        "id": "lgtZ6U2qq4PG"
      },
      "source": [
        "prob=poisson.cdf(7,3.2)"
      ],
      "execution_count": 9,
      "outputs": []
    },
    {
      "cell_type": "code",
      "metadata": {
        "id": "BX4PLUlaiw4n",
        "outputId": "fc4c021a-a25e-4bdb-af59-182a3bb3c164",
        "colab": {
          "base_uri": "https://localhost:8080/"
        }
      },
      "source": [
        "#We use cdf when we want to find probab of any atleast factor. \n",
        "#Since we need more than 7 customers ka probab we can use 1-cdf\n",
        "prob_morethan_1= 1-prob\n",
        "print(prob_morethan_1)"
      ],
      "execution_count": 10,
      "outputs": [
        {
          "output_type": "stream",
          "text": [
            "0.01682984174895752\n"
          ],
          "name": "stdout"
        }
      ]
    },
    {
      "cell_type": "markdown",
      "metadata": {
        "id": "u88aVD7zq5K6"
      },
      "source": [
        "**Question 5: A bank has an average random arrival rate of 3.2 customers every 4 minutes. What is the\n",
        "probability of getting exactly 10 customers during an 8 min interval?**\n"
      ]
    },
    {
      "cell_type": "code",
      "metadata": {
        "id": "_k6tdIqyq5bi",
        "outputId": "2cf6711f-d8c0-4de1-b6c7-c7463405ed54",
        "colab": {
          "base_uri": "https://localhost:8080/"
        }
      },
      "source": [
        "poisson.pmf(10,6.4)"
      ],
      "execution_count": 11,
      "outputs": [
        {
          "output_type": "execute_result",
          "data": {
            "text/plain": [
              "0.052790043854115495"
            ]
          },
          "metadata": {
            "tags": []
          },
          "execution_count": 11
        }
      ]
    },
    {
      "cell_type": "markdown",
      "metadata": {
        "id": "5tGYvkbxq5mC"
      },
      "source": [
        "**Question 6:. Suppose the amount of time it takes to assemble a plastic module ranges from 27 - 39 seconds and that assembly times are uniformly distributed. Describe the distribution. What is the probabilty that a given assembly wll take between 30 & 35 seconds?**"
      ]
    },
    {
      "cell_type": "code",
      "metadata": {
        "id": "vtfD_n7zrVrS",
        "outputId": "547530d2-df1b-4fb6-a42b-c50996b5c5d9",
        "colab": {
          "base_uri": "https://localhost:8080/"
        }
      },
      "source": [
        "#Uniform distribution\n",
        "#cdf -- between something\n",
        "#when uniform pdf and pmf cannot be used coz both will have same/uniform/constant values and hence will result in 0\n",
        "U=np.arange(27,40,1)\n",
        "U\n",
        "#ordered array arranging"
      ],
      "execution_count": 14,
      "outputs": [
        {
          "output_type": "execute_result",
          "data": {
            "text/plain": [
              "array([27, 28, 29, 30, 31, 32, 33, 34, 35, 36, 37, 38, 39])"
            ]
          },
          "metadata": {
            "tags": []
          },
          "execution_count": 14
        }
      ]
    },
    {
      "cell_type": "code",
      "metadata": {
        "id": "xXGqCV2zlLE4"
      },
      "source": [
        "from scipy.stats import uniform"
      ],
      "execution_count": 15,
      "outputs": []
    },
    {
      "cell_type": "code",
      "metadata": {
        "id": "NOrhRvhTlLO6",
        "outputId": "bda56da5-2e87-426e-d747-851b8bc9f380",
        "colab": {
          "base_uri": "https://localhost:8080/"
        }
      },
      "source": [
        "uniform.mean(loc=27,scale=12)\n",
        "#loc is start point and scale is the end point"
      ],
      "execution_count": 16,
      "outputs": [
        {
          "output_type": "execute_result",
          "data": {
            "text/plain": [
              "33.0"
            ]
          },
          "metadata": {
            "tags": []
          },
          "execution_count": 16
        }
      ]
    },
    {
      "cell_type": "code",
      "metadata": {
        "id": "T0N2xKFdltHr",
        "outputId": "83389f73-7839-44f1-c707-5a63a9d01230",
        "colab": {
          "base_uri": "https://localhost:8080/"
        }
      },
      "source": [
        "uniform.cdf(np.arange(30,36,1), loc=27,scale=12)\n",
        "#finding the cdf of each from 30 to 35 (n-1)"
      ],
      "execution_count": 19,
      "outputs": [
        {
          "output_type": "execute_result",
          "data": {
            "text/plain": [
              "array([0.25      , 0.33333333, 0.41666667, 0.5       , 0.58333333,\n",
              "       0.66666667])"
            ]
          },
          "metadata": {
            "tags": []
          },
          "execution_count": 19
        }
      ]
    },
    {
      "cell_type": "code",
      "metadata": {
        "id": "AcO6hvfTrziR",
        "outputId": "a0ed2e70-904b-4697-eb33-ec672bb3a82c",
        "colab": {
          "base_uri": "https://localhost:8080/"
        }
      },
      "source": [
        "FINAL_PROBAB=0.66666667-0.25\n",
        "FINAL_PROBAB"
      ],
      "execution_count": 23,
      "outputs": [
        {
          "output_type": "execute_result",
          "data": {
            "text/plain": [
              "0.41666667"
            ]
          },
          "metadata": {
            "tags": []
          },
          "execution_count": 23
        }
      ]
    },
    {
      "cell_type": "code",
      "metadata": {
        "id": "SHXH7Y0hl8Qx",
        "outputId": "5e5e50da-59c3-4baf-8853-af2d316d13a1",
        "colab": {
          "base_uri": "https://localhost:8080/"
        }
      },
      "source": [
        "uniform.pdf(np.arange(30,36,1), loc=27,scale=12)"
      ],
      "execution_count": 20,
      "outputs": [
        {
          "output_type": "execute_result",
          "data": {
            "text/plain": [
              "array([0.08333333, 0.08333333, 0.08333333, 0.08333333, 0.08333333,\n",
              "       0.08333333])"
            ]
          },
          "metadata": {
            "tags": []
          },
          "execution_count": 20
        }
      ]
    },
    {
      "cell_type": "code",
      "metadata": {
        "id": "UZH1_DhWqbFi",
        "outputId": "2ea614e3-5fb1-4f74-ba04-29514382d9e1",
        "colab": {
          "base_uri": "https://localhost:8080/"
        }
      },
      "source": [
        "uniform.pdf(np.arange(30,35,1), loc=27,scale=12)"
      ],
      "execution_count": 21,
      "outputs": [
        {
          "output_type": "execute_result",
          "data": {
            "text/plain": [
              "array([0.08333333, 0.08333333, 0.08333333, 0.08333333, 0.08333333])"
            ]
          },
          "metadata": {
            "tags": []
          },
          "execution_count": 21
        }
      ]
    },
    {
      "cell_type": "markdown",
      "metadata": {
        "id": "eaC_5hTmrV10"
      },
      "source": [
        "**Question 7:Acc to National Association of Insurance Commissioners, average annual cost for automobile\n",
        "insurance in India was Rs 691. Suppose automobile insurance costs are uniformly distributed with a range of\n",
        "Rs. 200 to Rs. 1182. What is the standard deviation of this uniform distribution.**"
      ]
    },
    {
      "cell_type": "code",
      "metadata": {
        "id": "4p1xBnttrWA0",
        "outputId": "ce1dca2b-6e23-4793-dfa5-f039754704c7",
        "colab": {
          "base_uri": "https://localhost:8080/"
        }
      },
      "source": [
        "uniform.mean(loc=200,scale=982)"
      ],
      "execution_count": 24,
      "outputs": [
        {
          "output_type": "execute_result",
          "data": {
            "text/plain": [
              "691.0"
            ]
          },
          "metadata": {
            "tags": []
          },
          "execution_count": 24
        }
      ]
    },
    {
      "cell_type": "code",
      "metadata": {
        "id": "py0n-biCvimQ",
        "outputId": "790b8a82-33ac-4067-d379-f7451ccc4860",
        "colab": {
          "base_uri": "https://localhost:8080/"
        }
      },
      "source": [
        "uniform.std(loc=200,scale=982)"
      ],
      "execution_count": 25,
      "outputs": [
        {
          "output_type": "execute_result",
          "data": {
            "text/plain": [
              "283.4789821721062"
            ]
          },
          "metadata": {
            "tags": []
          },
          "execution_count": 25
        }
      ]
    },
    {
      "cell_type": "markdown",
      "metadata": {
        "id": "tjn6_L0urWJS"
      },
      "source": [
        "**Question 8: What is the probability of getting a score greater than 700 on a GMAT test that has a mean of 494\n",
        "and STD of 100? Assume GMAT scores are normally distributed? For the same GMAT exam, what is the\n",
        "probabilty of randomly drawing a score that is 550 or less? What is the probabilty of randomly obtaining a\n",
        "score between 300 and 600 on the same exam? What is the probabilty of randomly obtaining a score\n",
        "between 350 and 450 on the same exam?**"
      ]
    },
    {
      "cell_type": "code",
      "metadata": {
        "id": "4rS_YpBZrWRr",
        "outputId": "31294d1e-9ee4-4553-b8c5-ba0fdb8a5613",
        "colab": {
          "base_uri": "https://localhost:8080/"
        }
      },
      "source": [
        "from scipy.stats import norm\n",
        "val,m,s =67,65.5,2.5\n",
        "print(norm.cdf(val,m,s))\n",
        "val1,m,s =66,65.5,2.5\n",
        "print(norm.cdf(val1,m,s))\n",
        "val2,m,s =65.6,65.5,2.5\n",
        "print(norm.cdf(val2,m,s))\n",
        "val3,m,s =65.4,65.5,2.5\n",
        "print(norm.cdf(val3,m,s))\n",
        "val4,m,s =63,65.5,2.5\n",
        "print(norm.cdf(val4,m,s))"
      ],
      "execution_count": 37,
      "outputs": [
        {
          "output_type": "stream",
          "text": [
            "0.7257468822499265\n",
            "0.579259709439103\n",
            "0.5159534368528299\n",
            "0.48404656314717015\n",
            "0.15865525393145707\n"
          ],
          "name": "stdout"
        }
      ]
    },
    {
      "cell_type": "markdown",
      "metadata": {
        "id": "AP47XD4Qyxta"
      },
      "source": [
        "*What is the probability of getting a score greater than 700 on a GMAT test that has a mean of 494 and STD of 100? Assume GMAT scores are normally distributed?*"
      ]
    },
    {
      "cell_type": "code",
      "metadata": {
        "id": "BUz-TS66zBmI",
        "outputId": "e46791f7-46e6-4c7c-bd98-4e6ab4774506",
        "colab": {
          "base_uri": "https://localhost:8080/"
        }
      },
      "source": [
        "print(1-norm.cdf(700,494,100))"
      ],
      "execution_count": 38,
      "outputs": [
        {
          "output_type": "stream",
          "text": [
            "0.019699270409376912\n"
          ],
          "name": "stdout"
        }
      ]
    },
    {
      "cell_type": "markdown",
      "metadata": {
        "id": "sqLWlheHzATR"
      },
      "source": [
        "*For the same GMAT exam, what is the probabilty of randomly drawing a score that is 550 or less?*"
      ]
    },
    {
      "cell_type": "code",
      "metadata": {
        "id": "9ON1U01_zAqx",
        "outputId": "44427751-23b0-4558-ea6a-7fd93e6dda22",
        "colab": {
          "base_uri": "https://localhost:8080/"
        }
      },
      "source": [
        "print(norm.cdf(550,494,100))"
      ],
      "execution_count": 39,
      "outputs": [
        {
          "output_type": "stream",
          "text": [
            "0.712260281150973\n"
          ],
          "name": "stdout"
        }
      ]
    },
    {
      "cell_type": "markdown",
      "metadata": {
        "id": "r_wup3wCzg1K"
      },
      "source": [
        "*What is the probabilty of randomly obtaining a score between 300 and 600 on the same exam?*"
      ]
    },
    {
      "cell_type": "code",
      "metadata": {
        "id": "pBqq3Kq5zhC-",
        "outputId": "b8508ff4-69ae-4d89-a2ea-77f2135b30ad",
        "colab": {
          "base_uri": "https://localhost:8080/"
        }
      },
      "source": [
        "print(norm.cdf(600,494,100)- norm.cdf(300,494,100))"
      ],
      "execution_count": 40,
      "outputs": [
        {
          "output_type": "stream",
          "text": [
            "0.8292378553956377\n"
          ],
          "name": "stdout"
        }
      ]
    },
    {
      "cell_type": "markdown",
      "metadata": {
        "id": "6QrMt-BIzhTv"
      },
      "source": [
        "*What is the probabilty of randomly obtaining a score between 350 and 450 on the same exam?*"
      ]
    },
    {
      "cell_type": "code",
      "metadata": {
        "id": "yw9Q3YrTzhcS",
        "outputId": "b9e99a74-23a8-46e7-9454-50e792c1e7d8",
        "colab": {
          "base_uri": "https://localhost:8080/"
        }
      },
      "source": [
        "print(norm.cdf(450,494,100)- norm.cdf(350,494,100))"
      ],
      "execution_count": 41,
      "outputs": [
        {
          "output_type": "stream",
          "text": [
            "0.2550348541262666\n"
          ],
          "name": "stdout"
        }
      ]
    },
    {
      "cell_type": "markdown",
      "metadata": {
        "id": "-2vfCGqfrWZZ"
      },
      "source": [
        "**Question 9:Suppose 18 major computer companies operate in India and 12 are located in Hyderabad. If three\n",
        "companies are selected randomly from the entire list what is the probability that one or more selected\n",
        "companies are located in Hyderabad**"
      ]
    },
    {
      "cell_type": "code",
      "metadata": {
        "id": "LSxaKt3srWhE"
      },
      "source": [
        "#Hyper geom function instead of binomial \n",
        "#When sampling is done without replacement, the\n",
        "# trials are not independent as probability of each\n",
        "# successive event is dependent on previous hence\n",
        "# we cannot use Binomial Distribution, as in both\n",
        "# cases(Binom & Hypergeom) remember there will be\n",
        "# 2 outcomes (success or failure) so the choice of\n",
        "# distribution is very imp.\n",
        "#population=18,success index=12,variable=1 or more should be in hyderabad"
      ],
      "execution_count": null,
      "outputs": []
    },
    {
      "cell_type": "code",
      "metadata": {
        "id": "egKlD1mUWnq-",
        "outputId": "3fe727a8-c81e-4831-9363-efa64db51296",
        "colab": {
          "base_uri": "https://localhost:8080/"
        }
      },
      "source": [
        "from scipy.stats import hypergeom\n",
        "pval=hypergeom.sf(0,18,3,12)\n",
        "pval"
      ],
      "execution_count": 5,
      "outputs": [
        {
          "output_type": "execute_result",
          "data": {
            "text/plain": [
              "0.9754901960784306"
            ]
          },
          "metadata": {
            "tags": []
          },
          "execution_count": 3
        },
        {
          "output_type": "execute_result",
          "data": {
            "text/plain": [
              "0.9754901960784306"
            ]
          },
          "metadata": {
            "tags": []
          },
          "execution_count": 5
        }
      ]
    },
    {
      "cell_type": "markdown",
      "metadata": {
        "id": "Y7HQg5gPrWn-"
      },
      "source": [
        "**Question 10:In Mumbai 18 police officers are eligible for promotion. 11 of the 18 are women. Suppose only 5 officers are chosen for promotion. If the officers chosen for promotion had been selected by chance alone, what is the probability that one or fewer of five promoted officers would be women?**"
      ]
    },
    {
      "cell_type": "code",
      "metadata": {
        "id": "SC9vBcn8remq"
      },
      "source": [
        "#Hyper geom function instead of binomial \n",
        "#When sampling is done without replacement, the\n",
        "# trials are not independent as probability of each\n",
        "# successive event is dependent on previous hence\n",
        "# we cannot use Binomial Distribution, as in both\n",
        "# cases(Binom & Hypergeom) remember there will be\n",
        "# 2 outcomes (success or failure) so the choice of\n",
        "# distribution is very imp.\n",
        "#pop=18,survivalindex=1 or more. for survival function always take 1-cdf"
      ],
      "execution_count": null,
      "outputs": []
    },
    {
      "cell_type": "code",
      "metadata": {
        "id": "RgSdTERGW0lp"
      },
      "source": [
        "from scipy.stats import hypergeom\n",
        "pval2=hypergeom.cdf(1,18,5,11)\n",
        "pval2"
      ],
      "execution_count": null,
      "outputs": []
    },
    {
      "cell_type": "markdown",
      "metadata": {
        "id": "Rn_kDG4isFUU"
      },
      "source": [
        "**Question 11: A manufacturing firm has been involved in a statistical quality control for several years. As part of\n",
        "the production process, parts are randomly selected and tested. From records of tests it has been established\n",
        "that a defective part occurs in a pattern that is Poisson distributed on the average of 1.38 defects every 20\n",
        "minutes during production run. Use this information to determine the probability that less than 15 mins will\n",
        "elapse between any 2 defects.**"
      ]
    },
    {
      "cell_type": "code",
      "metadata": {
        "id": "NWk5KxSBsFia"
      },
      "source": [
        "#If emphasis on number of events with fixed time limit then its poisson distribution\n",
        "#this is exponential distribution If emphasis on time with fixed number of events "
      ],
      "execution_count": null,
      "outputs": []
    },
    {
      "cell_type": "code",
      "metadata": {
        "id": "o_w6Sb5iXWCp",
        "outputId": "5e98b9a2-7d4d-44b7-fce3-b6c043c9a1c2",
        "colab": {
          "base_uri": "https://localhost:8080/"
        }
      },
      "source": [
        "mu1=1/1.38\n",
        "mu1"
      ],
      "execution_count": 8,
      "outputs": [
        {
          "output_type": "execute_result",
          "data": {
            "text/plain": [
              "0.7246376811594204"
            ]
          },
          "metadata": {
            "tags": []
          },
          "execution_count": 8
        }
      ]
    },
    {
      "cell_type": "code",
      "metadata": {
        "id": "rJIs_OGjYNip",
        "outputId": "e528068b-a131-443e-eaf9-6e06ba82d427",
        "colab": {
          "base_uri": "https://localhost:8080/"
        }
      },
      "source": [
        "from scipy.stats import expon\n",
        "expon.cdf(0.75,0,(1/1.38)) #15/20=0.75"
      ],
      "execution_count": 9,
      "outputs": [
        {
          "output_type": "execute_result",
          "data": {
            "text/plain": [
              "0.6447736190750485"
            ]
          },
          "metadata": {
            "tags": []
          },
          "execution_count": 9
        }
      ]
    }
  ]
}